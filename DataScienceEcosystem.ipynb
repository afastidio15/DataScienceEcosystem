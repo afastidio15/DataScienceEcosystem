{
 "cells": [
  {
   "cell_type": "code",
   "execution_count": null,
   "id": "f92cc613-b768-42ab-8e4a-bec4117e1a8a",
   "metadata": {},
   "outputs": [],
   "source": [
    "# Exercise 2: Create a markdown cell with the title of the notebook\n",
    "\n",
    "# Data Science Tools and Ecosystem"
   ]
  },
  {
   "cell_type": "markdown",
   "id": "c483a9e3-6ad0-4b1e-8931-70692cca440f",
   "metadata": {},
   "source": [
    "# Data Science Tools and Ecosystem"
   ]
  },
  {
   "cell_type": "code",
   "execution_count": null,
   "id": "79f3222c-5be6-4cbc-8b0d-7eb29ccb28f0",
   "metadata": {},
   "outputs": [],
   "source": [
    "# Exercise 3: Create a markdown cell for an introduction\n",
    "\n",
    "# In this notebook, Data Science tools and Ecosystem are summarized."
   ]
  },
  {
   "cell_type": "markdown",
   "id": "0f119817-f487-4a59-9022-fede13836496",
   "metadata": {},
   "source": [
    "In this notebook, Data Science tools and Ecosystem are summarized."
   ]
  },
  {
   "cell_type": "code",
   "execution_count": 8,
   "id": "016cc8df-9f8e-4215-af3b-fc033dd0915f",
   "metadata": {
    "tags": []
   },
   "outputs": [],
   "source": [
    "# Exercise 10: Insert a markdown cell to list objectives\n",
    "\n",
    "# __Objectives:__\n",
    "#\n",
    "# - List popular languages used by Data Scientists\n",
    "# - Commonly used libraries used by Data Scientists\n",
    "# - Creating code cells to add and multiply numbers\n",
    "# - Creating a markdown cell to create tables to list Data Science tools\n",
    "# - How to create markdown cells in general "
   ]
  },
  {
   "cell_type": "markdown",
   "id": "fa7e7b60-13fb-4862-a1d7-9559af15be92",
   "metadata": {},
   "source": [
    "__Objectives:__\n",
    "\n",
    "- List popular languages used by Data Scientists\n",
    "- Commonly used libraries used by Data Scientists\n",
    "- Creating code cells to add and multiply numbers\n",
    "- Creating a markdown cell to create tables to list Data Science tools\n",
    "- How to create markdown cells in general "
   ]
  },
  {
   "cell_type": "code",
   "execution_count": 1,
   "id": "c2da2536-0ed3-4723-a4ee-3e7e13b93685",
   "metadata": {},
   "outputs": [],
   "source": [
    "# Exercise 4: Create a markdown cell to list data science languages\n",
    "\n",
    "# Some of the popular languages that Data Scientists use are:\n",
    "#\n",
    "# 1) R\n",
    "# 2) Python\n",
    "# 3) SQL\n",
    "# 4) Julia\n",
    "# 5) C/C++ \n",
    "# 6) Java\n",
    "# 7) JavaScript\n",
    "# 8) Scala\n",
    "# 9) MATLAB\n",
    "# 10) SAS"
   ]
  },
  {
   "cell_type": "markdown",
   "id": "ba8b450e-34ee-46ae-81da-cef7727bed03",
   "metadata": {},
   "source": [
    "Some of the popular languages that Data Scientists use are:\n",
    "\n",
    "1) R\n",
    "2) Python\n",
    "3) SQL\n",
    "4) Julia\n",
    "5) C/C++ \n",
    "6) Java\n",
    "7) JavaScript\n",
    "8) Scala\n",
    "9) MATLAB\n",
    "10) SAS"
   ]
  },
  {
   "cell_type": "code",
   "execution_count": null,
   "id": "3d0f1938-6244-4b20-b13d-650ed035ed9e",
   "metadata": {},
   "outputs": [],
   "source": [
    "# Exercise 5: Create a markdown cell to list data science libraries\n",
    "\n",
    "# Some of the commonly used libraries used by Data Scientists are:\n",
    "#\n",
    "# 1) Tensorflow\n",
    "# 2) NumPy\n",
    "# 3) SciPy\n",
    "# 4) PyTorch\n",
    "# 5) Pandas\n",
    "# 6) Keras\n",
    "# 7) MatPlotLib\n",
    "# 8) SeaBorn\n",
    "# 9) SciKit-Learn\n",
    "# 10) Plotly"
   ]
  },
  {
   "cell_type": "markdown",
   "id": "bdb2ba05-ad3a-48d0-a6c2-0b1832799456",
   "metadata": {},
   "source": [
    "Some of the commonly used libraries used by Data Scientists are:\n",
    "\n",
    "1) Tensorflow\n",
    "2) NumPy\n",
    "3) SciPy\n",
    "4) PyTorch\n",
    "5) Pandas\n",
    "6) Keras\n",
    "7) MatPlotLib\n",
    "8) SeaBorn\n",
    "9) SciKit-Learn\n",
    "10) Plotly"
   ]
  },
  {
   "cell_type": "code",
   "execution_count": 2,
   "id": "b5a6139f-e997-4e2b-b578-6aec3b717603",
   "metadata": {
    "tags": []
   },
   "outputs": [],
   "source": [
    "# Exercise 6: Create a markdown cell with a table of Data Science tools\n",
    "\n",
    "# |Data Science Tools|\n",
    "# |------------------|\n",
    "# |Jupyter Notebooks|\n",
    "# |Spyder|\n",
    "# |VS Code|\n",
    "# |Zeppelin Notebooks|\n",
    "# |R Studio|"
   ]
  },
  {
   "cell_type": "markdown",
   "id": "08d2b59d-1f09-4781-905c-ac8f6d96f4ca",
   "metadata": {},
   "source": [
    "|Data Science Tools|\n",
    "|------------------|\n",
    "|Jupyter Notebooks|\n",
    "|Spyder|\n",
    "|VS Code|\n",
    "|Zeppelin Notebooks|\n",
    "|R Studio|"
   ]
  },
  {
   "cell_type": "code",
   "execution_count": null,
   "id": "63fa0538-2920-4e3a-a857-c82c035bb9d8",
   "metadata": {},
   "outputs": [],
   "source": [
    "# Exercise 7: Create a markdown cell introducing arithmetic expression examples"
   ]
  },
  {
   "cell_type": "markdown",
   "id": "cbb45068-db65-4ad0-aec8-53c7cc146933",
   "metadata": {},
   "source": [
    "### Below are a few examples of evaluating arithmetic expressions in Python "
   ]
  },
  {
   "cell_type": "code",
   "execution_count": null,
   "id": "67492bff-828f-4fc6-82c7-889db369dbeb",
   "metadata": {},
   "outputs": [],
   "source": [
    "# Exercise 8: Create a code cell to multiply and add numbers \n",
    "\n",
    "# This is a simple arithmetic expression to multiply and add integers"
   ]
  },
  {
   "cell_type": "code",
   "execution_count": 3,
   "id": "7111697f-bc8d-4175-8ddf-34ecc5ccddea",
   "metadata": {
    "tags": []
   },
   "outputs": [
    {
     "data": {
      "text/plain": [
       "17"
      ]
     },
     "execution_count": 3,
     "metadata": {},
     "output_type": "execute_result"
    }
   ],
   "source": [
    "(3*4)+5"
   ]
  },
  {
   "cell_type": "code",
   "execution_count": 4,
   "id": "2626b460-9b66-472a-9c1a-5697cf9d305e",
   "metadata": {
    "tags": []
   },
   "outputs": [],
   "source": [
    "# Exercise 9: Create a code cell to convert minutes to hours\n",
    "\n",
    "# This will convert 200 minutes to hours by dividing by 60"
   ]
  },
  {
   "cell_type": "code",
   "execution_count": 6,
   "id": "39ed3a00-22dd-4c69-99f6-133db0d6ed86",
   "metadata": {
    "tags": []
   },
   "outputs": [
    {
     "data": {
      "text/plain": [
       "3.3333333333333335"
      ]
     },
     "execution_count": 6,
     "metadata": {},
     "output_type": "execute_result"
    }
   ],
   "source": [
    "200/60"
   ]
  },
  {
   "cell_type": "code",
   "execution_count": 9,
   "id": "8161227d-3b8b-49ce-92ea-03e37368cd28",
   "metadata": {
    "tags": []
   },
   "outputs": [],
   "source": [
    "# Exercise 10: Insert a markdown cell to list objectives, listed under Exercise 3 "
   ]
  },
  {
   "cell_type": "code",
   "execution_count": 10,
   "id": "86689da2-7bf2-44ee-9bfa-3a7b1ecc7056",
   "metadata": {
    "tags": []
   },
   "outputs": [],
   "source": [
    "# Exercise 11: Create a markdown cell to indicate Author's name\n",
    "\n",
    "## Author\n",
    "Andrea F"
   ]
  },
  {
   "cell_type": "markdown",
   "id": "d4cb0d06-fafd-4e9f-8660-c91712ee398a",
   "metadata": {},
   "source": [
    "## Author \n",
    "Andrea F"
   ]
  }
 ],
 "metadata": {
  "kernelspec": {
   "display_name": "Python",
   "language": "python",
   "name": "conda-env-python-py"
  },
  "language_info": {
   "codemirror_mode": {
    "name": "ipython",
    "version": 3
   },
   "file_extension": ".py",
   "mimetype": "text/x-python",
   "name": "python",
   "nbconvert_exporter": "python",
   "pygments_lexer": "ipython3",
   "version": "3.7.12"
  }
 },
 "nbformat": 4,
 "nbformat_minor": 5
}
